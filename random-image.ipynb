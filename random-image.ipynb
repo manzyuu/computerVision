{
 "cells": [
  {
   "cell_type": "code",
   "execution_count": 2,
   "id": "13d0bd33-9478-4e55-81ce-91436e64d02d",
   "metadata": {},
   "outputs": [
    {
     "ename": "AttributeError",
     "evalue": "module 'matplotlib.artist' has no attribute 'Artist'",
     "output_type": "error",
     "traceback": [
      "\u001b[31m---------------------------------------------------------------------------\u001b[39m",
      "\u001b[31mAttributeError\u001b[39m                            Traceback (most recent call last)",
      "\u001b[36mCell\u001b[39m\u001b[36m \u001b[39m\u001b[32mIn[2]\u001b[39m\u001b[32m, line 1\u001b[39m\n\u001b[32m----> \u001b[39m\u001b[32m1\u001b[39m \u001b[38;5;28;01mfrom\u001b[39;00m\u001b[38;5;250m \u001b[39m\u001b[34;01mmatplotlib\u001b[39;00m\u001b[38;5;250m \u001b[39m\u001b[38;5;28;01mimport\u001b[39;00m pyplot \u001b[38;5;28;01mas\u001b[39;00m p\n\u001b[32m      2\u001b[39m I = Math.rand(\u001b[32m256\u001b[39m,\u001b[32m256\u001b[39m)\n\u001b[32m      3\u001b[39m p.imshow(I,cmap=\u001b[33m'\u001b[39m\u001b[33mgray\u001b[39m\u001b[33m'\u001b[39m)\n",
      "\u001b[36mFile \u001b[39m\u001b[32mc:\\GoogleDrive\\development\\Fucken\\sample\\.venv\\Lib\\site-packages\\matplotlib\\__init__.py:1573\u001b[39m\n\u001b[32m   1568\u001b[39m     \u001b[38;5;28;01mreturn\u001b[39;00m rcsetup.validate_backend(s)\n\u001b[32m   1571\u001b[39m \u001b[38;5;66;03m# workaround: we must defer colormaps import to after loading rcParams, because\u001b[39;00m\n\u001b[32m   1572\u001b[39m \u001b[38;5;66;03m# colormap creation depends on rcParams\u001b[39;00m\n\u001b[32m-> \u001b[39m\u001b[32m1573\u001b[39m \u001b[38;5;28;01mfrom\u001b[39;00m\u001b[38;5;250m \u001b[39m\u001b[34;01mmatplotlib\u001b[39;00m\u001b[34;01m.\u001b[39;00m\u001b[34;01mcm\u001b[39;00m\u001b[38;5;250m \u001b[39m\u001b[38;5;28;01mimport\u001b[39;00m _colormaps \u001b[38;5;28;01mas\u001b[39;00m colormaps  \u001b[38;5;66;03m# noqa: E402\u001b[39;00m\n\u001b[32m   1574\u001b[39m \u001b[38;5;28;01mfrom\u001b[39;00m\u001b[38;5;250m \u001b[39m\u001b[34;01mmatplotlib\u001b[39;00m\u001b[34;01m.\u001b[39;00m\u001b[34;01mcm\u001b[39;00m\u001b[38;5;250m \u001b[39m\u001b[38;5;28;01mimport\u001b[39;00m _multivar_colormaps \u001b[38;5;28;01mas\u001b[39;00m multivar_colormaps  \u001b[38;5;66;03m# noqa: E402\u001b[39;00m\n\u001b[32m   1575\u001b[39m \u001b[38;5;28;01mfrom\u001b[39;00m\u001b[38;5;250m \u001b[39m\u001b[34;01mmatplotlib\u001b[39;00m\u001b[34;01m.\u001b[39;00m\u001b[34;01mcm\u001b[39;00m\u001b[38;5;250m \u001b[39m\u001b[38;5;28;01mimport\u001b[39;00m _bivar_colormaps \u001b[38;5;28;01mas\u001b[39;00m bivar_colormaps  \u001b[38;5;66;03m# noqa: E402\u001b[39;00m\n",
      "\u001b[36mFile \u001b[39m\u001b[32mc:\\GoogleDrive\\development\\Fucken\\sample\\.venv\\Lib\\site-packages\\matplotlib\\cm.py:22\u001b[39m\n\u001b[32m     20\u001b[39m \u001b[38;5;28;01mfrom\u001b[39;00m\u001b[38;5;250m \u001b[39m\u001b[34;01mmatplotlib\u001b[39;00m\u001b[38;5;250m \u001b[39m\u001b[38;5;28;01mimport\u001b[39;00m _api, colors\n\u001b[32m     21\u001b[39m \u001b[38;5;66;03m# TODO make this warn on access\u001b[39;00m\n\u001b[32m---> \u001b[39m\u001b[32m22\u001b[39m \u001b[38;5;28;01mfrom\u001b[39;00m\u001b[38;5;250m \u001b[39m\u001b[34;01mmatplotlib\u001b[39;00m\u001b[34;01m.\u001b[39;00m\u001b[34;01mcolorizer\u001b[39;00m\u001b[38;5;250m \u001b[39m\u001b[38;5;28;01mimport\u001b[39;00m _ScalarMappable \u001b[38;5;28;01mas\u001b[39;00m ScalarMappable  \u001b[38;5;66;03m# noqa\u001b[39;00m\n\u001b[32m     23\u001b[39m \u001b[38;5;28;01mfrom\u001b[39;00m\u001b[38;5;250m \u001b[39m\u001b[34;01mmatplotlib\u001b[39;00m\u001b[34;01m.\u001b[39;00m\u001b[34;01m_cm\u001b[39;00m\u001b[38;5;250m \u001b[39m\u001b[38;5;28;01mimport\u001b[39;00m datad\n\u001b[32m     24\u001b[39m \u001b[38;5;28;01mfrom\u001b[39;00m\u001b[38;5;250m \u001b[39m\u001b[34;01mmatplotlib\u001b[39;00m\u001b[34;01m.\u001b[39;00m\u001b[34;01m_cm_listed\u001b[39;00m\u001b[38;5;250m \u001b[39m\u001b[38;5;28;01mimport\u001b[39;00m cmaps \u001b[38;5;28;01mas\u001b[39;00m cmaps_listed\n",
      "\u001b[36mFile \u001b[39m\u001b[32mc:\\GoogleDrive\\development\\Fucken\\sample\\.venv\\Lib\\site-packages\\matplotlib\\colorizer.py:631\u001b[39m\n\u001b[32m    601\u001b[39m \u001b[38;5;66;03m# The docstrings here must be generic enough to apply to all relevant methods.\u001b[39;00m\n\u001b[32m    602\u001b[39m mpl._docstring.interpd.register(\n\u001b[32m    603\u001b[39m     cmap_doc=\u001b[33m\"\"\"\u001b[39m\u001b[38;5;130;01m\\\u001b[39;00m\n\u001b[32m    604\u001b[39m \u001b[33mcmap : str or `~matplotlib.colors.Colormap`, default: :rc:`image.cmap`\u001b[39m\n\u001b[32m   (...)\u001b[39m\u001b[32m    627\u001b[39m \u001b[33m    name together with *vmin*/*vmax* is acceptable).\u001b[39m\u001b[33m\"\"\"\u001b[39m,\n\u001b[32m    628\u001b[39m )\n\u001b[32m--> \u001b[39m\u001b[32m631\u001b[39m \u001b[38;5;28;01mclass\u001b[39;00m\u001b[38;5;250m \u001b[39m\u001b[34;01mColorizingArtist\u001b[39;00m(_ScalarMappable, \u001b[43martist\u001b[49m\u001b[43m.\u001b[49m\u001b[43mArtist\u001b[49m):\n\u001b[32m    632\u001b[39m \u001b[38;5;250m    \u001b[39m\u001b[33;03m\"\"\"\u001b[39;00m\n\u001b[32m    633\u001b[39m \u001b[33;03m    Base class for artists that make map data to color using a `.colorizer.Colorizer`.\u001b[39;00m\n\u001b[32m    634\u001b[39m \n\u001b[32m   (...)\u001b[39m\u001b[32m    637\u001b[39m \n\u001b[32m    638\u001b[39m \u001b[33;03m    \"\"\"\u001b[39;00m\n\u001b[32m    639\u001b[39m     \u001b[38;5;28;01mdef\u001b[39;00m\u001b[38;5;250m \u001b[39m\u001b[34m__init__\u001b[39m(\u001b[38;5;28mself\u001b[39m, colorizer, **kwargs):\n",
      "\u001b[31mAttributeError\u001b[39m: module 'matplotlib.artist' has no attribute 'Artist'"
     ]
    }
   ],
   "source": [
    "from matplotlib import pyplot as p\n",
    "I = Math.rand(256,256)\n",
    "p.imshow(I,cmap='gray')\n",
    "p.show()\n"
   ]
  },
  {
   "cell_type": "code",
   "execution_count": null,
   "id": "97dfe639",
   "metadata": {},
   "outputs": [],
   "source": []
  },
  {
   "cell_type": "code",
   "execution_count": null,
   "id": "4e4fd244-67fe-43f6-a1dc-f0e81d9ec89b",
   "metadata": {},
   "outputs": [],
   "source": []
  }
 ],
 "metadata": {
  "kernelspec": {
   "display_name": ".venv",
   "language": "python",
   "name": "python3"
  },
  "language_info": {
   "codemirror_mode": {
    "name": "ipython",
    "version": 3
   },
   "file_extension": ".py",
   "mimetype": "text/x-python",
   "name": "python",
   "nbconvert_exporter": "python",
   "pygments_lexer": "ipython3",
   "version": "3.11.2"
  }
 },
 "nbformat": 4,
 "nbformat_minor": 5
}
